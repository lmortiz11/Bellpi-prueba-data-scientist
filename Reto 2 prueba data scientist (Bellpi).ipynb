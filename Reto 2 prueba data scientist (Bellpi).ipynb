{
 "cells": [
  {
   "cell_type": "code",
   "execution_count": 1,
   "metadata": {},
   "outputs": [],
   "source": [
    "import urllib3 \n",
    "import string    \n",
    "import random\n",
    "import requests\n",
    "from flask import Flask, render_template, request, redirect, url_for\n",
    "import urllib\n",
    "from urllib.parse import urlencode\n",
    "import webbrowser"
   ]
  },
  {
   "cell_type": "code",
   "execution_count": 2,
   "metadata": {},
   "outputs": [],
   "source": [
    "#Creo dos listas vacias una para las url cortadas y otra para las largas\n",
    "\n",
    "short_url_list=[]\n",
    "long_url_list=[]"
   ]
  },
  {
   "cell_type": "code",
   "execution_count": 3,
   "metadata": {},
   "outputs": [],
   "source": [
    "#Defino una función para el acortador de URL: el nuevo link tendra 10 digitos que son escogidos aleatoriamente\n",
    "def acortador (link):\n",
    "    s=10\n",
    "    short_url=''\n",
    "    while len(link)>10:\n",
    "        ran = ''.join(random.choices(string.ascii_lowercase + string.digits+ '.', k = s)) \n",
    "        short_url = 'http://' + ran\n",
    "        return (short_url)"
   ]
  },
  {
   "cell_type": "code",
   "execution_count": 4,
   "metadata": {},
   "outputs": [],
   "source": [
    "# Función que pide al usuario el URL y muestra el acortado si ingresa el largo o vicerversa\n",
    "def ingrese_url ():\n",
    "    url_ingresado = input('Ingrese el URL: ')\n",
    "    if url_ingresado in long_url_list:\n",
    "        index= long_url_list.index(url_ingresado)\n",
    "        \n",
    "    if url_ingresado in short_url_list:\n",
    "        index= short_url_list.index(url_ingresado)\n",
    "        return (long_url_list[index])\n",
    "\n",
    "    else:\n",
    "        new = acortador(url_ingresado)\n",
    "        long_url_list.append(url_ingresado)\n",
    "        short_url_list.append(new)\n",
    "        index= long_url_list.index(url_ingresado)\n",
    "    return(short_url_list[index])\n",
    "    \n"
   ]
  },
  {
   "cell_type": "code",
   "execution_count": 14,
   "metadata": {},
   "outputs": [
    {
     "name": "stdout",
     "output_type": "stream",
     "text": [
      "Ingrese el URL: https://www.youtube.com/watch?v=l-9VZZWtMfQ\n"
     ]
    },
    {
     "data": {
      "text/plain": [
       "'http://s0cy02dsa6'"
      ]
     },
     "execution_count": 14,
     "metadata": {},
     "output_type": "execute_result"
    }
   ],
   "source": [
    "ingrese_url()"
   ]
  },
  {
   "cell_type": "code",
   "execution_count": 8,
   "metadata": {},
   "outputs": [],
   "source": [
    "#función para abrir el URL en el navegador\n",
    "def openURL_Browser ():\n",
    "    url_ingresado = input('Ingrese el URL: ')\n",
    "    if url_ingresado in short_url_list:\n",
    "        index= short_url_list.index(url_ingresado)\n",
    "        URL= long_url_list[index]\n",
    "        webbrowser.open(URL)\n",
    "    else :\n",
    "        webbrowser.open(url_ingresado)\n",
    "        "
   ]
  },
  {
   "cell_type": "code",
   "execution_count": 11,
   "metadata": {},
   "outputs": [
    {
     "name": "stdout",
     "output_type": "stream",
     "text": [
      "Ingrese el URL: http://vwhfb.ucs9\n"
     ]
    }
   ],
   "source": [
    "openURL_Browser ()"
   ]
  },
  {
   "cell_type": "code",
   "execution_count": 15,
   "metadata": {},
   "outputs": [
    {
     "name": "stdout",
     "output_type": "stream",
     "text": [
      "['http://xgz2.mt66y', 'http://tqoj801w5h', 'http://vwhfb.ucs9', 'http://s0cy02dsa6']\n",
      "['https://docs.python.org/3/using/mac.html#how-to-run-a-python-script', 'https://www.youtube.com/watch?v=eVH1Y15omgE', 'https://www.google.com/search?q=flores&sxsrf=ALiCzsbt6Y9IyH5NPiKmzwa1DaazUdc-kg:1651417382538&source=lnms&tbm=isch&sa=X&ved=2ahUKEwiI2NiTyb73AhWilWoFHYTECUQQ_AUoAXoECAMQAw&biw=1366&bih=625&dpr=1', 'https://www.youtube.com/watch?v=l-9VZZWtMfQ']\n"
     ]
    }
   ],
   "source": [
    "#Reviso de que los URL se esten almacenando en las listas\n",
    "\n",
    "print(short_url_list)\n",
    "print (long_url_list)"
   ]
  }
 ],
 "metadata": {
  "kernelspec": {
   "display_name": "Python 3",
   "language": "python",
   "name": "python3"
  },
  "language_info": {
   "codemirror_mode": {
    "name": "ipython",
    "version": 3
   },
   "file_extension": ".py",
   "mimetype": "text/x-python",
   "name": "python",
   "nbconvert_exporter": "python",
   "pygments_lexer": "ipython3",
   "version": "3.6.4"
  }
 },
 "nbformat": 4,
 "nbformat_minor": 2
}
